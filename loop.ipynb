{
 "cells": [
  {
   "cell_type": "code",
   "execution_count": 7,
   "id": "c2488cae",
   "metadata": {},
   "outputs": [
    {
     "name": "stdout",
     "output_type": "stream",
     "text": [
      "A\n",
      "M\n",
      "I\n",
      "T\n",
      "tamam ya m3lm\n"
     ]
    }
   ],
   "source": [
    "for x in \"AMIT\":\n",
    "    print(x)\n",
    "else:\n",
    "     print(\"tamam ya m3lm\")"
   ]
  },
  {
   "cell_type": "code",
   "execution_count": 10,
   "id": "1e9a1c66",
   "metadata": {},
   "outputs": [
    {
     "name": "stdout",
     "output_type": "stream",
     "text": [
      "0\n",
      "1\n",
      "2\n",
      "4\n",
      "5\n"
     ]
    }
   ],
   "source": [
    "for y in range(6):\n",
    "    if y==3:\n",
    "        continue\n",
    "    print(y)"
   ]
  },
  {
   "cell_type": "code",
   "execution_count": 12,
   "id": "f229556a",
   "metadata": {},
   "outputs": [
    {
     "name": "stdout",
     "output_type": "stream",
     "text": [
      "0\n",
      "1\n",
      "2\n",
      "3\n"
     ]
    }
   ],
   "source": [
    "for i in range(6):\n",
    "    if i==4:\n",
    "        break\n",
    "    print(i)"
   ]
  },
  {
   "cell_type": "code",
   "execution_count": 39,
   "id": "48969763",
   "metadata": {},
   "outputs": [
    {
     "name": "stdout",
     "output_type": "stream",
     "text": [
      "0\n",
      "1\n",
      "2\n",
      "3\n",
      "4\n",
      "4\n",
      "5\n"
     ]
    }
   ],
   "source": [
    "for z in range(6):\n",
    "    \n",
    "    if z==4:\n",
    "      \n",
    "      pass\n",
    "      print(z)\n",
    "    print(z)\n"
   ]
  },
  {
   "cell_type": "code",
   "execution_count": 32,
   "id": "d64a669a",
   "metadata": {},
   "outputs": [
    {
     "name": "stdout",
     "output_type": "stream",
     "text": [
      "6\n",
      "4.75\n",
      "3.5\n",
      "2.25\n",
      "1.0\n"
     ]
    }
   ],
   "source": [
    "x=6\n",
    "while x>0:\n",
    "    print(x)\n",
    "    x-=1.25\n",
    "   "
   ]
  },
  {
   "cell_type": "code",
   "execution_count": 101,
   "id": "a4373e14",
   "metadata": {},
   "outputs": [],
   "source": [
    "def info_std(**name):\n",
    "    print((f\"My name is {name}\"))\n",
    "    print(type(name))"
   ]
  },
  {
   "cell_type": "code",
   "execution_count": 103,
   "id": "cceaccc4",
   "metadata": {},
   "outputs": [
    {
     "name": "stdout",
     "output_type": "stream",
     "text": [
      "My name is {'m1': 'moha', 'm2': 'kol', 'm3': 'mos'}\n",
      "<class 'dict'>\n"
     ]
    }
   ],
   "source": [
    "info_std(m1 = \"moha\" , m2 = \"kol\" , m3 =\"mos\" )"
   ]
  },
  {
   "cell_type": "code",
   "execution_count": 131,
   "id": "51d5212b",
   "metadata": {},
   "outputs": [],
   "source": [
    "def sum (x,y):\n",
    "    return lambda a: a+x+y+111\n"
   ]
  },
  {
   "cell_type": "code",
   "execution_count": 133,
   "id": "f25d44ed",
   "metadata": {},
   "outputs": [
    {
     "data": {
      "text/plain": [
       "136"
      ]
     },
     "execution_count": 133,
     "metadata": {},
     "output_type": "execute_result"
    }
   ],
   "source": [
    "y=sum(10,12)\n",
    "y(3)\n"
   ]
  },
  {
   "cell_type": "code",
   "execution_count": 204,
   "id": "6c81ec51",
   "metadata": {},
   "outputs": [
    {
     "data": {
      "text/plain": [
       "'String PLEU'"
      ]
     },
     "execution_count": 204,
     "metadata": {},
     "output_type": "execute_result"
    }
   ],
   "source": [
    "code= \"&&&**$gnirtS PLIO!!@1234\"\n",
    "a=code.find(\"$\")\n",
    "b=code.find(\"!!\")\n",
    "d=code.find(\" \")\n",
    "f1=code[a+1:d][::-1]\n",
    "f2=code[d+1:b]\n",
    "f2=list(f2)\n",
    "f2\n",
    "f2[2]=(\"E\")\n",
    "f2[3]=(\"U\")\n",
    "f2=(''.join(f2))\n",
    "f2\n",
    "f3=f1+f2\n",
    "f3=list(f3)\n",
    "f3.insert(6,\" \")\n",
    "f3=(''.join(f3))\n",
    "f3\n",
    "\n"
   ]
  },
  {
   "cell_type": "code",
   "execution_count": 17,
   "id": "2a797c7c",
   "metadata": {},
   "outputs": [
    {
     "name": "stdout",
     "output_type": "stream",
     "text": [
      "Mohamed Nabil Basha\n",
      "Aser Mohamed Nabil\n"
     ]
    }
   ],
   "source": [
    "f = open(\"D:/Mn/AMIT_AI_Diploma/AMIT_AI/text.txt\",\"r\")\n",
    "print(f.read())\n",
    "all=f.readlines()\n",
    "for line in all:\n",
    "    print(all)\n",
    "f.close()"
   ]
  },
  {
   "cell_type": "code",
   "execution_count": 25,
   "id": "6f32953f",
   "metadata": {},
   "outputs": [
    {
     "name": "stdout",
     "output_type": "stream",
     "text": [
      "<_io.TextIOWrapper name='text.txt' mode='w' encoding='cp1252'>\n"
     ]
    }
   ],
   "source": [
    "f=open(\"text.txt\",\"w\")\n",
    "f.write(\"Hello champ\")\n",
    "print(f)\n",
    "f.close()"
   ]
  },
  {
   "cell_type": "code",
   "execution_count": 35,
   "id": "373ed2a2",
   "metadata": {},
   "outputs": [
    {
     "name": "stdout",
     "output_type": "stream",
     "text": [
      "Hello champ\n"
     ]
    }
   ],
   "source": [
    "f=open(\"text.txt\",\"r\")\n",
    "print(f.read())\n",
    "f.close()"
   ]
  },
  {
   "cell_type": "code",
   "execution_count": 59,
   "id": "acc3fd7e",
   "metadata": {},
   "outputs": [
    {
     "data": {
      "text/plain": [
       "<function TextIOWrapper.close()>"
      ]
     },
     "execution_count": 59,
     "metadata": {},
     "output_type": "execute_result"
    }
   ],
   "source": [
    "f=open(\"text.txt\",\"a\")\n",
    "for i in range(10):\n",
    "    f.write(\"\\n I Love Python\" + str(i))\n",
    "f.close"
   ]
  },
  {
   "cell_type": "code",
   "execution_count": 61,
   "id": "a29ac322",
   "metadata": {},
   "outputs": [
    {
     "name": "stdout",
     "output_type": "stream",
     "text": [
      "Hello champ/n I Love Python0/n I Love Python1/n I Love Python2/n I Love Python3/n I Love Python4/n I Love Python5/n I Love Python6/n I Love Python7/n I Love Python8/n I Love Python9/n I Love Python0/n I Love Python1/n I Love Python2/n I Love Python3/n I Love Python4/n I Love Python5/n I Love Python6/n I Love Python7/n I Love Python8/n I Love Python9\n"
     ]
    },
    {
     "data": {
      "text/plain": [
       "<function TextIOWrapper.close()>"
      ]
     },
     "execution_count": 61,
     "metadata": {},
     "output_type": "execute_result"
    }
   ],
   "source": [
    "f=open(\"text.txt\",\"r\")\n",
    "print(f.read())\n",
    "f.close"
   ]
  },
  {
   "cell_type": "code",
   "execution_count": 71,
   "id": "5b5ccf85",
   "metadata": {},
   "outputs": [],
   "source": [
    "import os\n",
    "import sys\n",
    "file=os.listdir(r'D:/Mn/AMIT_AI_Diploma/AMIT_AI')"
   ]
  },
  {
   "cell_type": "code",
   "execution_count": 118,
   "id": "054cb99b",
   "metadata": {},
   "outputs": [
    {
     "data": {
      "text/plain": [
       "'text.txt'"
      ]
     },
     "execution_count": 118,
     "metadata": {},
     "output_type": "execute_result"
    }
   ],
   "source": [
    "import random\n",
    "random.choice(file)"
   ]
  },
  {
   "cell_type": "code",
   "execution_count": 122,
   "id": "f2191293",
   "metadata": {},
   "outputs": [
    {
     "name": "stdout",
     "output_type": "stream",
     "text": [
      "./tmp_directory\\text.txt\n"
     ]
    }
   ],
   "source": [
    "base_diar=\"./tmp_directory\"\n",
    "file_name=\"text.txt\"\n",
    "file_path=os.path.join(base_diar,file_name)\n",
    "print(file_path)"
   ]
  },
  {
   "cell_type": "code",
   "execution_count": 134,
   "id": "0f414827",
   "metadata": {},
   "outputs": [],
   "source": [
    "path=\"D:/Mn/AMIT_AI_Diploma/AMIT_AI/Material/Python\"\n",
    "if not os.path.exists(path):\n",
    "    os.makedirs(path)\n",
    "for i in range(12):\n",
    "    inner_path = os.path.join(path,\"diar_\"+str(i))\n",
    "    if not os.path.exists(inner_path):\n",
    "        os.makedirs(inner_path)"
   ]
  },
  {
   "cell_type": "code",
   "execution_count": 151,
   "id": "aee1138f",
   "metadata": {},
   "outputs": [],
   "source": [
    "def fac_1(n):\n",
    "    if n==0:\n",
    "        return 0\n",
    "    if n==1:\n",
    "        return 1\n",
    "    return n*fac_1(n-1)"
   ]
  },
  {
   "cell_type": "code",
   "execution_count": 153,
   "id": "1bb837f3",
   "metadata": {},
   "outputs": [
    {
     "data": {
      "text/plain": [
       "120"
      ]
     },
     "execution_count": 153,
     "metadata": {},
     "output_type": "execute_result"
    }
   ],
   "source": [
    "fac_1(5)"
   ]
  },
  {
   "cell_type": "code",
   "execution_count": 18,
   "id": "b7bbba80",
   "metadata": {},
   "outputs": [
    {
     "ename": "ImportError",
     "evalue": "cannot import name 'isprime' from 'math_01' (d:\\Mn\\AMIT_AI_Diploma\\AMIT_AI\\math_01.py)",
     "output_type": "error",
     "traceback": [
      "\u001b[31m---------------------------------------------------------------------------\u001b[39m",
      "\u001b[31mImportError\u001b[39m                               Traceback (most recent call last)",
      "\u001b[36mCell\u001b[39m\u001b[36m \u001b[39m\u001b[32mIn[18]\u001b[39m\u001b[32m, line 1\u001b[39m\n\u001b[32m----> \u001b[39m\u001b[32m1\u001b[39m \u001b[38;5;28;01mfrom\u001b[39;00m\u001b[38;5;250m \u001b[39m\u001b[34;01mmath_01\u001b[39;00m\u001b[38;5;250m \u001b[39m\u001b[38;5;28;01mimport\u001b[39;00m isprime\n\u001b[32m      2\u001b[39m isprime(\u001b[32m5\u001b[39m)\n",
      "\u001b[31mImportError\u001b[39m: cannot import name 'isprime' from 'math_01' (d:\\Mn\\AMIT_AI_Diploma\\AMIT_AI\\math_01.py)"
     ]
    }
   ],
   "source": [
    "from math_01 import isprime\n",
    "isprime(5)"
   ]
  },
  {
   "cell_type": "code",
   "execution_count": 37,
   "id": "135ba9f9",
   "metadata": {},
   "outputs": [
    {
     "name": "stdout",
     "output_type": "stream",
     "text": [
      "ALi:1\n",
      "Hi:1\n",
      "Mohamed:1\n",
      "No:1\n",
      "Aser:1\n",
      "Ali:1\n"
     ]
    }
   ],
   "source": [
    "words=[\"Aser\",\"Ali\",\"Mohamed\",\"ALi\",\"ALi\",\"Hi\",\"No\",\"No\"]\n",
    "uni_words=set(words)\n",
    "for words in uni_words:\n",
    "    print(f\"{words}:{words.count(words)}\")\n"
   ]
  },
  {
   "cell_type": "code",
   "execution_count": null,
   "id": "8bb01a37",
   "metadata": {},
   "outputs": [],
   "source": [
    "def word_counter(words):\n",
    "    uni_words=set(words)\n",
    "    for words in uni_words:\n",
    "        print(f\"{words}:{words.count(words)}\")"
   ]
  },
  {
   "cell_type": "code",
   "execution_count": null,
   "id": "fd282e14",
   "metadata": {},
   "outputs": [
    {
     "ename": "SyntaxError",
     "evalue": "invalid syntax (525412855.py, line 1)",
     "output_type": "error",
     "traceback": [
      "  \u001b[36mCell\u001b[39m\u001b[36m \u001b[39m\u001b[32mIn[39]\u001b[39m\u001b[32m, line 1\u001b[39m\n\u001b[31m    \u001b[39m\u001b[31mfrom math_01 import word_counter:\u001b[39m\n                                    ^\n\u001b[31mSyntaxError\u001b[39m\u001b[31m:\u001b[39m invalid syntax\n"
     ]
    }
   ],
   "source": []
  }
 ],
 "metadata": {
  "kernelspec": {
   "display_name": "Python 3",
   "language": "python",
   "name": "python3"
  },
  "language_info": {
   "codemirror_mode": {
    "name": "ipython",
    "version": 3
   },
   "file_extension": ".py",
   "mimetype": "text/x-python",
   "name": "python",
   "nbconvert_exporter": "python",
   "pygments_lexer": "ipython3",
   "version": "3.12.9"
  }
 },
 "nbformat": 4,
 "nbformat_minor": 5
}
