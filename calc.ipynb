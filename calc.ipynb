{
 "cells": [
  {
   "cell_type": "code",
   "execution_count": 3,
   "id": "ce6ebb6d",
   "metadata": {},
   "outputs": [
    {
     "name": "stdout",
     "output_type": "stream",
     "text": [
      "enter a valid number\n"
     ]
    }
   ],
   "source": [
    "x=(input(\"enter first no.\"))\n",
    "x= int(x)\n",
    "if x!=int:\n",
    "    print(\"enter a valid number\")\n",
    "elif x==int and x>0:\n",
    "    print(int(x))"
   ]
  },
  {
   "cell_type": "code",
   "execution_count": 8,
   "id": "19666299",
   "metadata": {},
   "outputs": [
    {
     "name": "stdout",
     "output_type": "stream",
     "text": [
      "The input '5' is a valid integer\n"
     ]
    }
   ],
   "source": [
    "x = input(\"enter a number: \")\n",
    "\n",
    "try:\n",
    "  x= int(x)\n",
    "  print(f\"The input '{x}' is a valid integer\")\n",
    "except ValueError:\n",
    "  print(f\"The input '{x}' is not a valid integer.\")"
   ]
  },
  {
   "cell_type": "code",
   "execution_count": null,
   "id": "57b11398",
   "metadata": {},
   "outputs": [
    {
     "name": "stdout",
     "output_type": "stream",
     "text": [
      "11\n",
      " thank you\n",
      "n\n"
     ]
    }
   ],
   "source": [
    "x1=input(\"enter first number\")\n",
    "operation=input(\"enter operation\")\n",
    "x2=input(\"enter seconed number\")\n",
    "\n",
    "def calculate(x1,operation,x2):\n",
    "    try:\n",
    "        x1=int(x1)\n",
    "        x2=int(x2)\n",
    "        if operation== \"+\":\n",
    "            print(f\"{x1+x2}\\n EXIT\")\n",
    "        elif operation==\"-\":\n",
    "            print(f\"{x1-x2}\\n EXIT\")\n",
    "        elif operation==\"*\":\n",
    "            print(f\"{x1*x2}\\n EXIT\")\n",
    "        elif operation==\"/\":\n",
    "            if x2!=\"0\":\n",
    "                print(f\"{x1/x2}\\n EXIT\")\n",
    "            elif x2==\"0\":\n",
    "                 print(\"Kindly chech your numbers again\")  \n",
    "        else:\n",
    "            print(\"enter a valid relation please \\n EXIT\")\n",
    "    except:\n",
    "             print(\"enter a valid number or relation\")\n",
    "\n",
    "calculate(x1,operation,x2)\n",
    "reply=input(\"Do you want to perform another calculation? (yes/no): \")\n",
    "print(reply)\n",
    "while reply==\"y\" and reply!= \"n\":\n",
    "    x1=input(\"enter first number\")\n",
    "    operation=input(\"enter operation\")\n",
    "    x2=input(\"enter seconed number\")\n",
    "    calculate(x1,operation,x2)\n",
    "    reply=input(\"Do you want to perform another calculation? (yes/no): \")\n"
   ]
  },
  {
   "cell_type": "code",
   "execution_count": 20,
   "id": "7fd57195",
   "metadata": {},
   "outputs": [
    {
     "ename": "ValueError",
     "evalue": "invalid literal for int() with base 10: 'dd'",
     "output_type": "error",
     "traceback": [
      "\u001b[31m---------------------------------------------------------------------------\u001b[39m",
      "\u001b[31mValueError\u001b[39m                                Traceback (most recent call last)",
      "\u001b[36mCell\u001b[39m\u001b[36m \u001b[39m\u001b[32mIn[20]\u001b[39m\u001b[32m, line 8\u001b[39m, in \u001b[36mcalculate\u001b[39m\u001b[34m(x1, operation, x2)\u001b[39m\n\u001b[32m      7\u001b[39m x1=\u001b[38;5;28mint\u001b[39m(x1)\n\u001b[32m----> \u001b[39m\u001b[32m8\u001b[39m x2=\u001b[38;5;28;43mint\u001b[39;49m\u001b[43m(\u001b[49m\u001b[43mx2\u001b[49m\u001b[43m)\u001b[49m\n\u001b[32m      9\u001b[39m \u001b[38;5;28;01mif\u001b[39;00m operation== \u001b[33m\"\u001b[39m\u001b[33m+\u001b[39m\u001b[33m\"\u001b[39m:\n",
      "\u001b[31mValueError\u001b[39m: invalid literal for int() with base 10: 'dd'",
      "\nDuring handling of the above exception, another exception occurred:\n",
      "\u001b[31mValueError\u001b[39m                                Traceback (most recent call last)",
      "\u001b[36mCell\u001b[39m\u001b[36m \u001b[39m\u001b[32mIn[20]\u001b[39m\u001b[32m, line 29\u001b[39m\n\u001b[32m     25\u001b[39m                   operation=\u001b[38;5;28minput\u001b[39m(\u001b[33m\"\u001b[39m\u001b[33menter operation\u001b[39m\u001b[33m\"\u001b[39m)\n\u001b[32m     26\u001b[39m                   x2=\u001b[38;5;28minput\u001b[39m(\u001b[33m\"\u001b[39m\u001b[33menter seconed number\u001b[39m\u001b[33m\"\u001b[39m)\n\u001b[32m---> \u001b[39m\u001b[32m29\u001b[39m \u001b[43mcalculate\u001b[49m\u001b[43m(\u001b[49m\u001b[43mx1\u001b[49m\u001b[43m,\u001b[49m\u001b[43moperation\u001b[49m\u001b[43m,\u001b[49m\u001b[43mx2\u001b[49m\u001b[43m)\u001b[49m\n\u001b[32m     30\u001b[39m reply=\u001b[38;5;28minput\u001b[39m(\u001b[33m\"\u001b[39m\u001b[33mDo you want to perform another calculation? (yes/no): \u001b[39m\u001b[33m\"\u001b[39m)\n\u001b[32m     31\u001b[39m \u001b[38;5;28mprint\u001b[39m(reply)\n",
      "\u001b[36mCell\u001b[39m\u001b[36m \u001b[39m\u001b[32mIn[20]\u001b[39m\u001b[32m, line 23\u001b[39m, in \u001b[36mcalculate\u001b[39m\u001b[34m(x1, operation, x2)\u001b[39m\n\u001b[32m     21\u001b[39m         \u001b[38;5;28mprint\u001b[39m(\u001b[33m\"\u001b[39m\u001b[33menter a valid relation please \u001b[39m\u001b[38;5;130;01m\\n\u001b[39;00m\u001b[33m EXIT\u001b[39m\u001b[33m\"\u001b[39m)\n\u001b[32m     22\u001b[39m \u001b[38;5;28;01mexcept\u001b[39;00m:\n\u001b[32m---> \u001b[39m\u001b[32m23\u001b[39m          \u001b[38;5;28;01mwhile\u001b[39;00m x1!=\u001b[38;5;28mint\u001b[39m(x1)  \u001b[38;5;129;01mor\u001b[39;00m x2!=\u001b[38;5;28;43mint\u001b[39;49m\u001b[43m(\u001b[49m\u001b[43mx2\u001b[49m\u001b[43m)\u001b[49m:\n\u001b[32m     24\u001b[39m               x1=\u001b[38;5;28minput\u001b[39m(\u001b[33m\"\u001b[39m\u001b[33menter first number\u001b[39m\u001b[33m\"\u001b[39m)\n\u001b[32m     25\u001b[39m               operation=\u001b[38;5;28minput\u001b[39m(\u001b[33m\"\u001b[39m\u001b[33menter operation\u001b[39m\u001b[33m\"\u001b[39m)\n",
      "\u001b[31mValueError\u001b[39m: invalid literal for int() with base 10: 'dd'"
     ]
    }
   ],
   "source": [
    "x1=input(\"enter first number\")\n",
    "operation=input(\"enter operation\")\n",
    "x2=input(\"enter seconed number\")\n",
    "\n",
    "def calculate(x1,operation,x2):\n",
    "    try:\n",
    "        x1=int(x1)\n",
    "        x2=int(x2)\n",
    "        if operation== \"+\":\n",
    "            print(f\"{x1+x2}\\n EXIT\")\n",
    "        elif operation==\"-\":\n",
    "            print(f\"{x1-x2}\\n EXIT\")\n",
    "        elif operation==\"*\":\n",
    "            print(f\"{x1*x2}\\n EXIT\")\n",
    "        elif operation==\"/\":\n",
    "            if x2!=\"0\":\n",
    "                print(f\"{x1/x2}\\n EXIT\")\n",
    "            elif x2==\"0\":\n",
    "                 print(\"Kindly chech your numbers again\")  \n",
    "        else:\n",
    "            print(\"enter a valid relation please \\n EXIT\")\n",
    "    except:\n",
    "             while x1!=int(x1)  or x2!=int(x2):\n",
    "                  x1=input(\"enter first number\")\n",
    "                  operation=input(\"enter operation\")\n",
    "                  x2=input(\"enter seconed number\")\n",
    "\n",
    "\n",
    "calculate(x1,operation,x2)\n",
    "reply=input(\"Do you want to perform another calculation? (yes/no): \")\n",
    "print(reply)\n",
    "while reply==\"y\" and reply!= \"n\":\n",
    "    x1=input(\"enter first number\")\n",
    "    operation=input(\"enter operation\")\n",
    "    x2=input(\"enter seconed number\")\n",
    "    calculate(x1,operation,x2)\n",
    "    reply=input(\"Do you want to perform another calculation? (yes/no): \")\n"
   ]
  }
 ],
 "metadata": {
  "kernelspec": {
   "display_name": "Python 3",
   "language": "python",
   "name": "python3"
  },
  "language_info": {
   "codemirror_mode": {
    "name": "ipython",
    "version": 3
   },
   "file_extension": ".py",
   "mimetype": "text/x-python",
   "name": "python",
   "nbconvert_exporter": "python",
   "pygments_lexer": "ipython3",
   "version": "3.12.9"
  }
 },
 "nbformat": 4,
 "nbformat_minor": 5
}
