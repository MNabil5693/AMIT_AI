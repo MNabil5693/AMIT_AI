{
 "cells": [
  {
   "cell_type": "code",
   "execution_count": null,
   "id": "57b11398",
   "metadata": {},
   "outputs": [
    {
     "name": "stdout",
     "output_type": "stream",
     "text": [
      "11\n",
      " thank you\n",
      "n\n"
     ]
    }
   ],
   "source": [
    "x1=input(\"enter first number\")\n",
    "operation=input(\"enter operation\")\n",
    "x2=input(\"enter seconed number\")\n",
    "\n",
    "def calculate(x1,operation,x2):\n",
    "    try:\n",
    "        x1=int(x1)\n",
    "        x2=int(x2)\n",
    "        if operation== \"+\":\n",
    "            print(f\"{x1+x2}\\n EXIT\")\n",
    "        elif operation==\"-\":\n",
    "            print(f\"{x1-x2}\\n EXIT\")\n",
    "        elif operation==\"*\":\n",
    "            print(f\"{x1*x2}\\n EXIT\")\n",
    "        elif operation==\"/\":\n",
    "            if x2!=\"0\":\n",
    "                print(f\"{x1/x2}\\n EXIT\")\n",
    "            elif x2==\"0\":\n",
    "                 print(\"Kindly chech your numbers again\")  \n",
    "        else:\n",
    "            print(\"enter a valid relation please \\n EXIT\")\n",
    "    except:\n",
    "             print(\"enter a valid number or relation\")\n",
    "\n",
    "calculate(x1,operation,x2)\n",
    "reply=input(\"Do you want to perform another calculation? (yes/no): \")\n",
    "print(reply)\n",
    "while reply==\"y\" and reply!= \"n\":\n",
    "    x1=input(\"enter first number\")\n",
    "    operation=input(\"enter operation\")\n",
    "    x2=input(\"enter seconed number\")\n",
    "    calculate(x1,operation,x2)\n",
    "    reply=input(\"Do you want to perform another calculation? (yes/no): \")\n"
   ]
  }
 ],
 "metadata": {
  "kernelspec": {
   "display_name": "Python 3",
   "language": "python",
   "name": "python3"
  },
  "language_info": {
   "codemirror_mode": {
    "name": "ipython",
    "version": 3
   },
   "file_extension": ".py",
   "mimetype": "text/x-python",
   "name": "python",
   "nbconvert_exporter": "python",
   "pygments_lexer": "ipython3",
   "version": "3.12.9"
  }
 },
 "nbformat": 4,
 "nbformat_minor": 5
}
