{
 "cells": [
  {
   "cell_type": "code",
   "execution_count": 6,
   "id": "1b7f8d74",
   "metadata": {},
   "outputs": [
    {
     "name": "stdout",
     "output_type": "stream",
     "text": [
      "hello\n"
     ]
    }
   ],
   "source": [
    "#ana 3ayez a3mel print \n",
    "print(\"hello\")"
   ]
  },
  {
   "cell_type": "markdown",
   "id": "c4db7aba",
   "metadata": {},
   "source": [
    "#Print ya ma3lm"
   ]
  },
  {
   "cell_type": "code",
   "execution_count": 3,
   "id": "11aa1f52",
   "metadata": {},
   "outputs": [
    {
     "data": {
      "text/plain": [
       "' \\ngfdkjsrmnd  f lksmfkamg  jskfgnalmgt  jsfnadkgkgjkjnfgnskjf\\n\\n'"
      ]
     },
     "execution_count": 3,
     "metadata": {},
     "output_type": "execute_result"
    }
   ],
   "source": [
    "''' \n",
    "gfdkjsrmnd  f lksmfkamg  jskfgnalmgt  jsfnadkgkgjkjnfgnskjf\n",
    "\n",
    "'''"
   ]
  },
  {
   "cell_type": "code",
   "execution_count": 8,
   "id": "5407b360",
   "metadata": {},
   "outputs": [
    {
     "name": "stdout",
     "output_type": "stream",
     "text": [
      "5\n"
     ]
    }
   ],
   "source": [
    "x=5\n",
    "print(x)"
   ]
  },
  {
   "cell_type": "code",
   "execution_count": 9,
   "id": "5517bd3a",
   "metadata": {},
   "outputs": [
    {
     "ename": "NameError",
     "evalue": "name 'X' is not defined",
     "output_type": "error",
     "traceback": [
      "\u001b[31m---------------------------------------------------------------------------\u001b[39m",
      "\u001b[31mNameError\u001b[39m                                 Traceback (most recent call last)",
      "\u001b[36mCell\u001b[39m\u001b[36m \u001b[39m\u001b[32mIn[9]\u001b[39m\u001b[32m, line 1\u001b[39m\n\u001b[32m----> \u001b[39m\u001b[32m1\u001b[39m \u001b[38;5;28mid\u001b[39m(\u001b[43mX\u001b[49m)\n",
      "\u001b[31mNameError\u001b[39m: name 'X' is not defined"
     ]
    }
   ],
   "source": [
    "id(X)"
   ]
  },
  {
   "cell_type": "code",
   "execution_count": 12,
   "id": "40f025bf",
   "metadata": {},
   "outputs": [
    {
     "name": "stdout",
     "output_type": "stream",
     "text": [
      "140732415863352\n"
     ]
    }
   ],
   "source": [
    "print(id(x))"
   ]
  },
  {
   "cell_type": "code",
   "execution_count": 14,
   "id": "80dbef88",
   "metadata": {},
   "outputs": [
    {
     "data": {
      "text/plain": [
       "int"
      ]
     },
     "execution_count": 14,
     "metadata": {},
     "output_type": "execute_result"
    }
   ],
   "source": [
    "type(x)"
   ]
  },
  {
   "cell_type": "code",
   "execution_count": 17,
   "id": "abd20238",
   "metadata": {},
   "outputs": [
    {
     "name": "stdout",
     "output_type": "stream",
     "text": [
      "my name is M.Nabil, my age is 32, I work asEngineer\n"
     ]
    }
   ],
   "source": [
    "std_name= \"M.Nabil\"\n",
    "std_age= \"32\"\n",
    "std_work= \"Engineer\"\n",
    "print(\"my name is {0}, my age is {1}, I work as{2}\".format(std_name, std_age, std_work))"
   ]
  },
  {
   "cell_type": "code",
   "execution_count": 25,
   "id": "4c13cd82",
   "metadata": {},
   "outputs": [
    {
     "data": {
      "text/plain": [
       "str"
      ]
     },
     "execution_count": 25,
     "metadata": {},
     "output_type": "execute_result"
    }
   ],
   "source": [
    "x=\"3.14\"\n",
    "type(x)"
   ]
  },
  {
   "cell_type": "code",
   "execution_count": 40,
   "id": "840385e9",
   "metadata": {},
   "outputs": [
    {
     "name": "stdout",
     "output_type": "stream",
     "text": [
      "10.0\n"
     ]
    }
   ],
   "source": [
    "num1=float(input(\"enter num1\"))\n",
    "num2=float(input(\"enter num2\"))\n",
    "print(num1+num2)"
   ]
  },
  {
   "cell_type": "code",
   "execution_count": 49,
   "id": "50750db1",
   "metadata": {},
   "outputs": [
    {
     "name": "stdout",
     "output_type": "stream",
     "text": [
      "My name is 5,and iam 5 years old, and iam engaged in learning 5\n"
     ]
    }
   ],
   "source": [
    "name=input(\"enter your name\")\n",
    "age=int(input(\"enter your age\"))\n",
    "course=input(\"enter course name\")\n",
    "print(\"My name is {0},and iam {1} years old, and iam engaged in learning {2}\".format(name,age,course))"
   ]
  },
  {
   "cell_type": "code",
   "execution_count": 55,
   "id": "14578753",
   "metadata": {},
   "outputs": [
    {
     "data": {
      "text/plain": [
       "'o'"
      ]
     },
     "execution_count": 55,
     "metadata": {},
     "output_type": "execute_result"
    }
   ],
   "source": [
    "x=\"welcome\"\n",
    "len(x)\n",
    "x[-3]"
   ]
  },
  {
   "cell_type": "code",
   "execution_count": 61,
   "id": "14b40a9e",
   "metadata": {},
   "outputs": [
    {
     "name": "stdout",
     "output_type": "stream",
     "text": [
      "AMIT\n"
     ]
    }
   ],
   "source": [
    "name=\"AMIT_LEARNING\"\n",
    "len(name)\n",
    "print(name[0:4])"
   ]
  },
  {
   "cell_type": "code",
   "execution_count": 63,
   "id": "1d263728",
   "metadata": {},
   "outputs": [
    {
     "name": "stdout",
     "output_type": "stream",
     "text": [
      "welcome\n"
     ]
    }
   ],
   "source": [
    "print(x.lower())"
   ]
  },
  {
   "cell_type": "code",
   "execution_count": 65,
   "id": "810b659e",
   "metadata": {},
   "outputs": [
    {
     "data": {
      "text/plain": [
       "'welcome'"
      ]
     },
     "execution_count": 65,
     "metadata": {},
     "output_type": "execute_result"
    }
   ],
   "source": [
    "x.lower()"
   ]
  },
  {
   "cell_type": "code",
   "execution_count": 67,
   "id": "99db9461",
   "metadata": {},
   "outputs": [],
   "source": [
    "x=x.lower()"
   ]
  },
  {
   "cell_type": "code",
   "execution_count": 69,
   "id": "f4b19ffa",
   "metadata": {},
   "outputs": [
    {
     "name": "stdout",
     "output_type": "stream",
     "text": [
      "welcome\n"
     ]
    }
   ],
   "source": [
    "print(x)"
   ]
  },
  {
   "cell_type": "code",
   "execution_count": 71,
   "id": "89f24b93",
   "metadata": {},
   "outputs": [],
   "source": [
    "name=name.lower()"
   ]
  },
  {
   "cell_type": "code",
   "execution_count": 73,
   "id": "cfeaa29e",
   "metadata": {},
   "outputs": [
    {
     "name": "stdout",
     "output_type": "stream",
     "text": [
      "amit_learning\n"
     ]
    }
   ],
   "source": [
    "print(name)"
   ]
  },
  {
   "cell_type": "code",
   "execution_count": 75,
   "id": "3d0916f2",
   "metadata": {},
   "outputs": [],
   "source": [
    "y=\"hello mr Mohamed\""
   ]
  },
  {
   "cell_type": "markdown",
   "id": "4f5a7d96",
   "metadata": {},
   "source": []
  },
  {
   "cell_type": "code",
   "execution_count": 106,
   "id": "04596ab0",
   "metadata": {},
   "outputs": [
    {
     "ename": "ValueError",
     "evalue": "invalid literal for int() with base 10: ''",
     "output_type": "error",
     "traceback": [
      "\u001b[31m---------------------------------------------------------------------------\u001b[39m",
      "\u001b[31mValueError\u001b[39m                                Traceback (most recent call last)",
      "\u001b[36mCell\u001b[39m\u001b[36m \u001b[39m\u001b[32mIn[106]\u001b[39m\u001b[32m, line 2\u001b[39m\n\u001b[32m      1\u001b[39m name= \u001b[38;5;28minput\u001b[39m(\u001b[33m\"\u001b[39m\u001b[33menter your name\u001b[39m\u001b[33m\"\u001b[39m)\n\u001b[32m----> \u001b[39m\u001b[32m2\u001b[39m age= \u001b[38;5;28;43mint\u001b[39;49m\u001b[43m(\u001b[49m\u001b[38;5;28;43minput\u001b[39;49m\u001b[43m(\u001b[49m\u001b[33;43m\"\u001b[39;49m\u001b[33;43menter your age\u001b[39;49m\u001b[33;43m\"\u001b[39;49m\u001b[43m)\u001b[49m\u001b[43m)\u001b[49m\n\u001b[32m      3\u001b[39m job= \u001b[38;5;28minput\u001b[39m(\u001b[33m\"\u001b[39m\u001b[33menter your job\u001b[39m\u001b[33m\"\u001b[39m)\n\u001b[32m      4\u001b[39m salary= \u001b[38;5;28mfloat\u001b[39m(\u001b[38;5;28minput\u001b[39m(\u001b[33m\"\u001b[39m\u001b[33menter your salary\u001b[39m\u001b[33m\"\u001b[39m))\n",
      "\u001b[31mValueError\u001b[39m: invalid literal for int() with base 10: ''"
     ]
    }
   ],
   "source": [
    "name= input(\"enter your name\")\n",
    "age= int(input(\"enter your age\"))\n",
    "job= input(\"enter your job\")\n",
    "salary= float(input(\"enter your salary\"))\n",
    "print(f\"my name is {name} and iam {age} years old, iwork as a{job} and I get {salary} by month\")"
   ]
  },
  {
   "cell_type": "code",
   "execution_count": 100,
   "id": "f68a37e5",
   "metadata": {},
   "outputs": [
    {
     "name": "stdout",
     "output_type": "stream",
     "text": [
      "Mohamed\n",
      "Nabil\n"
     ]
    }
   ],
   "source": [
    "z=\"Mohamed\"\n",
    "s=\"Nabil\"\n",
    "print(z)\n",
    "print(s)"
   ]
  },
  {
   "cell_type": "code",
   "execution_count": 102,
   "id": "653ce7d4",
   "metadata": {},
   "outputs": [
    {
     "name": "stdout",
     "output_type": "stream",
     "text": [
      "Mohamed\n",
      "Nabil\n"
     ]
    }
   ],
   "source": [
    "print(\"Mohamed\")\n",
    "print(\"Nabil\")"
   ]
  },
  {
   "cell_type": "code",
   "execution_count": 108,
   "id": "ee6e6d6d",
   "metadata": {},
   "outputs": [
    {
     "name": "stdout",
     "output_type": "stream",
     "text": [
      "*\n",
      "**\n",
      "***\n",
      "****\n"
     ]
    }
   ],
   "source": [
    "print(\"*\")\n",
    "print(\"**\")\n",
    "print(\"***\")\n",
    "print(\"****\")"
   ]
  },
  {
   "cell_type": "code",
   "execution_count": 305,
   "id": "5c380b0d",
   "metadata": {},
   "outputs": [
    {
     "name": "stdout",
     "output_type": "stream",
     "text": [
      "User name: Amit_ml \n",
      "Domain: gmail\n",
      "This email is educational \n"
     ]
    }
   ],
   "source": [
    "mail=\"Amit_ml@gmail.edu\"\n",
    "a=int(mail.find(\"@\"))\n",
    "b=int(mail.find(\".\"))\n",
    "#print(a)\n",
    "#print(b)\n",
    "# print(\"User name:\", mail[0:a])\n",
    "# print(\"Domail:\", mail[a+1:b])\n",
    "\n",
    "if \"@\" in mail:\n",
    "    print(f\"User name: {mail[0:a]} \\nDomain: {mail[a+1:b]}\")\n",
    "    \n",
    "end=(mail[b+1:])\n",
    "if end==\"edu\":\n",
    "    print(\"This email is educational \")\n",
    "elif end==\"com\":\n",
    "    print(\"This email is commercial\")"
   ]
  },
  {
   "cell_type": "code",
   "execution_count": 306,
   "id": "5b0bd317",
   "metadata": {},
   "outputs": [
    {
     "name": "stdout",
     "output_type": "stream",
     "text": [
      "main core is: mocleW EPGTQ\n",
      "Welc\n"
     ]
    }
   ],
   "source": [
    "name= \"###!!@mocleW EPGTQ!!!6789\"\n",
    "a=name.find(\"m\")\n",
    "b=name.find(\"!!!\")\n",
    "c=name[a:b]  #core total\n",
    "print(f\"main core is: {c}\")\n",
    "d=c[5:1:-1]\n",
    "print(d)"
   ]
  },
  {
   "cell_type": "code",
   "execution_count": 326,
   "id": "d8fe5ce4",
   "metadata": {},
   "outputs": [
    {
     "name": "stdout",
     "output_type": "stream",
     "text": [
      "['ml', 'dl', 'ds']\n"
     ]
    }
   ],
   "source": [
    "List1=[1,2,3,\"amit\",\"learning\",True,[1,2,3,\"True\",[\"ml\",\"dl\",\"ds\"]]]\n",
    "print(List1[6][4])"
   ]
  },
  {
   "cell_type": "code",
   "execution_count": 341,
   "id": "aaf389e6",
   "metadata": {},
   "outputs": [
    {
     "name": "stdout",
     "output_type": "stream",
     "text": [
      "['A', 'm', 'i', 't']\n",
      "Amit\n"
     ]
    }
   ],
   "source": [
    "x=\"Amit\"\n",
    "y=list(x)\n",
    "print(y)\n",
    "print(''.join(y))"
   ]
  },
  {
   "cell_type": "code",
   "execution_count": 364,
   "id": "74f2d5d7",
   "metadata": {},
   "outputs": [
    {
     "name": "stdout",
     "output_type": "stream",
     "text": [
      "['amit', 'learning', 'Machine Learning', 'python']\n"
     ]
    }
   ],
   "source": [
    "list1=[\"amit\",\"learning\",\"python\"]\n",
    "list1.insert(2,\"Machine Learning\")\n",
    "print(list1)"
   ]
  },
  {
   "cell_type": "code",
   "execution_count": 375,
   "id": "33ddfbdf",
   "metadata": {},
   "outputs": [
    {
     "name": "stdout",
     "output_type": "stream",
     "text": [
      "['pytorch', 'learning', 'python', 'machine learning']\n",
      "['pytorch', 'learning', 'machine learning']\n"
     ]
    }
   ],
   "source": [
    "list1=[\"amit\",\"learning\",\"python\"]\n",
    "list2=[\"machine learning\"]\n",
    "list1.extend(list2)\n",
    "\n",
    "list1.insert(1,\"pytorch\")\n",
    "list1.remove(\"amit\")\n",
    "print(list1)\n",
    "list1.pop(2)\n",
    "print(list1)"
   ]
  },
  {
   "cell_type": "code",
   "execution_count": 7,
   "id": "ab3cf69d",
   "metadata": {},
   "outputs": [
    {
     "name": "stdout",
     "output_type": "stream",
     "text": [
      "[1, 30, 3, 4]\n",
      "(1, 30, 3, 4)\n"
     ]
    }
   ],
   "source": [
    "y1=(1,2,3,4)\n",
    "y1=list(y1)\n",
    "y1[1]=30\n",
    "print(y1)\n",
    "y1=tuple(y1)\n",
    "print(y1)"
   ]
  },
  {
   "cell_type": "code",
   "execution_count": 16,
   "id": "408bb657",
   "metadata": {},
   "outputs": [
    {
     "name": "stdout",
     "output_type": "stream",
     "text": [
      "{'K1': 'amit learning', 'k2': 'v2', 'K3': 'python', 4: [1, 2, 3, 4, 5]}\n"
     ]
    }
   ],
   "source": [
    "d1={\"K1\":12.5,\"k2\":\"v2\",\"K3\":\"python\",4:[1,2,3,4,5]}\n",
    "d1[\"K1\"]=\"amit learning\"\n",
    "print(d1)"
   ]
  },
  {
   "cell_type": "code",
   "execution_count": 18,
   "id": "3d88e125",
   "metadata": {},
   "outputs": [
    {
     "name": "stderr",
     "output_type": "stream",
     "text": [
      "<>:1: SyntaxWarning: \"is\" with 'int' literal. Did you mean \"==\"?\n",
      "<>:1: SyntaxWarning: \"is\" with 'int' literal. Did you mean \"==\"?\n",
      "C:\\Users\\mohamed.nabil\\AppData\\Local\\Temp\\ipykernel_11668\\4056859831.py:1: SyntaxWarning: \"is\" with 'int' literal. Did you mean \"==\"?\n",
      "  2 is 3\n"
     ]
    },
    {
     "data": {
      "text/plain": [
       "False"
      ]
     },
     "execution_count": 18,
     "metadata": {},
     "output_type": "execute_result"
    }
   ],
   "source": [
    "2 is 3"
   ]
  },
  {
   "cell_type": "code",
   "execution_count": 33,
   "id": "b9fe69c3",
   "metadata": {},
   "outputs": [
    {
     "name": "stdout",
     "output_type": "stream",
     "text": [
      "ta3baaaan\n"
     ]
    }
   ],
   "source": [
    "Degree=int(input(\"enter your degree\"))\n",
    "if Degree>=0 and Degree <=100:\n",
    "    if Degree>= 90 and Degree <100 :\n",
    "        print(\"A\")\n",
    "    elif Degree>= 80 and Degree <90 :\n",
    "        print(\"B\")\n",
    "    elif Degree>= 70 and Degree <80 :\n",
    "        print(\"c\")\n",
    "    elif Degree< 70:\n",
    "        print(\"ta3baaaan\")\n",
    "else:\n",
    "    print(\"your answer is not a number\")"
   ]
  },
  {
   "cell_type": "code",
   "execution_count": null,
   "id": "662d4cad",
   "metadata": {},
   "outputs": [
    {
     "name": "stdout",
     "output_type": "stream",
     "text": [
      "['m', 'o', 'c', 'l', 'e', 'W', ' ', 'E', 'P', 'G', 'T', 'Q']\n"
     ]
    }
   ],
   "source": [
    "name=(\"###!!@mocleW EPGTQ!!!6789\")\n",
    "a=name.find(\"@\")\n",
    "b=name.find(\"!!!\")\n",
    "c=name[a+1:b]  #َCore\n",
    "e=c.find(\"P\")\n",
    "c=list(c)\n",
    "\n"
   ]
  }
 ],
 "metadata": {
  "kernelspec": {
   "display_name": "Python 3",
   "language": "python",
   "name": "python3"
  },
  "language_info": {
   "codemirror_mode": {
    "name": "ipython",
    "version": 3
   },
   "file_extension": ".py",
   "mimetype": "text/x-python",
   "name": "python",
   "nbconvert_exporter": "python",
   "pygments_lexer": "ipython3",
   "version": "3.12.9"
  }
 },
 "nbformat": 4,
 "nbformat_minor": 5
}
